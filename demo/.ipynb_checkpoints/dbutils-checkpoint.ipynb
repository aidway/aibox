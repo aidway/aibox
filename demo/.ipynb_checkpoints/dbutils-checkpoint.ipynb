{
 "cells": [
  {
   "cell_type": "markdown",
   "id": "a88c557e",
   "metadata": {},
   "source": [
    " - 需要根据实际环境，先修改 ../conf/dbutils.conf 配置文件\n"
   ]
  },
  {
   "cell_type": "code",
   "execution_count": 1,
   "id": "e7c8adee",
   "metadata": {},
   "outputs": [
    {
     "data": {
      "text/plain": [
       "<module 'aibox.dbutils' from '../../aibox/dbutils.py'>"
      ]
     },
     "execution_count": 1,
     "metadata": {},
     "output_type": "execute_result"
    }
   ],
   "source": [
    "import pandas as pd\n",
    "from imp import reload\n",
    "import sys\n",
    "\n",
    "sys.path.append('../..')\n",
    "from aibox import dbutils\n",
    "reload(dbutils)\n"
   ]
  },
  {
   "cell_type": "markdown",
   "id": "fd91ad99",
   "metadata": {},
   "source": [
    "# Inceptor\n"
   ]
  },
  {
   "cell_type": "markdown",
   "id": "5c7e86e9",
   "metadata": {},
   "source": [
    "## 连接方式"
   ]
  },
  {
   "cell_type": "markdown",
   "id": "1ff08436",
   "metadata": {},
   "source": [
    "### Impyla"
   ]
  },
  {
   "cell_type": "code",
   "execution_count": 2,
   "id": "1b743db8",
   "metadata": {},
   "outputs": [
    {
     "name": "stdout",
     "output_type": "stream",
     "text": [
      "Impyla连接测试.\n"
     ]
    },
    {
     "data": {
      "text/html": [
       "<div>\n",
       "<style scoped>\n",
       "    .dataframe tbody tr th:only-of-type {\n",
       "        vertical-align: middle;\n",
       "    }\n",
       "\n",
       "    .dataframe tbody tr th {\n",
       "        vertical-align: top;\n",
       "    }\n",
       "\n",
       "    .dataframe thead th {\n",
       "        text-align: right;\n",
       "    }\n",
       "</style>\n",
       "<table border=\"1\" class=\"dataframe\">\n",
       "  <thead>\n",
       "    <tr style=\"text-align: right;\">\n",
       "      <th></th>\n",
       "      <th>_c0</th>\n",
       "    </tr>\n",
       "  </thead>\n",
       "  <tbody>\n",
       "    <tr>\n",
       "      <th>0</th>\n",
       "      <td>2023-02-19</td>\n",
       "    </tr>\n",
       "  </tbody>\n",
       "</table>\n",
       "</div>"
      ],
      "text/plain": [
       "          _c0\n",
       "0  2023-02-19"
      ]
     },
     "execution_count": 2,
     "metadata": {},
     "output_type": "execute_result"
    }
   ],
   "source": [
    "print('Impyla连接测试.')\n",
    "sql = \"SELECT sysdate from system.dual\"\n",
    "dbtest = dbutils.selectHiveByImpyla(sql)\n",
    "dbtest"
   ]
  },
  {
   "cell_type": "markdown",
   "id": "71947592",
   "metadata": {},
   "source": [
    "### Pyhive"
   ]
  },
  {
   "cell_type": "code",
   "execution_count": 3,
   "id": "f63287d5",
   "metadata": {},
   "outputs": [
    {
     "name": "stdout",
     "output_type": "stream",
     "text": [
      "Pyhive连接测试.\n"
     ]
    },
    {
     "data": {
      "text/html": [
       "<div>\n",
       "<style scoped>\n",
       "    .dataframe tbody tr th:only-of-type {\n",
       "        vertical-align: middle;\n",
       "    }\n",
       "\n",
       "    .dataframe tbody tr th {\n",
       "        vertical-align: top;\n",
       "    }\n",
       "\n",
       "    .dataframe thead th {\n",
       "        text-align: right;\n",
       "    }\n",
       "</style>\n",
       "<table border=\"1\" class=\"dataframe\">\n",
       "  <thead>\n",
       "    <tr style=\"text-align: right;\">\n",
       "      <th></th>\n",
       "      <th>_c0</th>\n",
       "    </tr>\n",
       "  </thead>\n",
       "  <tbody>\n",
       "    <tr>\n",
       "      <th>0</th>\n",
       "      <td>2023-02-19 14:18:47</td>\n",
       "    </tr>\n",
       "  </tbody>\n",
       "</table>\n",
       "</div>"
      ],
      "text/plain": [
       "                   _c0\n",
       "0  2023-02-19 14:18:47"
      ]
     },
     "execution_count": 3,
     "metadata": {},
     "output_type": "execute_result"
    }
   ],
   "source": [
    "print('Pyhive连接测试.')\n",
    "sql = \"SELECT sysdate from system.dual\"\n",
    "dbutils.selectHiveByPyhive(sql)"
   ]
  },
  {
   "cell_type": "markdown",
   "id": "a468f231",
   "metadata": {},
   "source": [
    "### Pyodbc\n",
    "需要配置ODBC环境"
   ]
  },
  {
   "cell_type": "code",
   "execution_count": null,
   "id": "00ea3bc3",
   "metadata": {},
   "outputs": [],
   "source": [
    "print('Pyodbc连接测试.')\n",
    "sql = \"SELECT sysdate from system.dual\"\n",
    "dbutils.selectHiveByPyodbc(sql)"
   ]
  },
  {
   "cell_type": "markdown",
   "id": "25de05f5",
   "metadata": {},
   "source": [
    "## 批量插入示例\n",
    " - 以pyhive为例\n",
    " - 目标表限于ES或HBase\n",
    " - 建议数据量小于1000条时使用，否则推荐使用HDFS+外表方式将数据写入到Inceptor"
   ]
  },
  {
   "cell_type": "markdown",
   "id": "167f5e81",
   "metadata": {},
   "source": [
    "### 建表 - Waterdrop中执行"
   ]
  },
  {
   "cell_type": "markdown",
   "id": "c0cbe62d",
   "metadata": {},
   "source": [
    "drop table default.t_city_info;\n",
    "create table default.t_city_info(\n",
    "    idx string comment '唯一列',\n",
    "    city_name string comment '城市名称',\n",
    "    gdp double comment 'gdp增速'\n",
    ")\n",
    "stored as es;"
   ]
  },
  {
   "cell_type": "markdown",
   "id": "427afdfb",
   "metadata": {},
   "source": [
    "### 构建测试数据"
   ]
  },
  {
   "cell_type": "code",
   "execution_count": 6,
   "id": "f6ad3ed0",
   "metadata": {},
   "outputs": [
    {
     "data": {
      "text/html": [
       "<div>\n",
       "<style scoped>\n",
       "    .dataframe tbody tr th:only-of-type {\n",
       "        vertical-align: middle;\n",
       "    }\n",
       "\n",
       "    .dataframe tbody tr th {\n",
       "        vertical-align: top;\n",
       "    }\n",
       "\n",
       "    .dataframe thead th {\n",
       "        text-align: right;\n",
       "    }\n",
       "</style>\n",
       "<table border=\"1\" class=\"dataframe\">\n",
       "  <thead>\n",
       "    <tr style=\"text-align: right;\">\n",
       "      <th></th>\n",
       "      <th>idx</th>\n",
       "      <th>city_name</th>\n",
       "      <th>gdp</th>\n",
       "    </tr>\n",
       "  </thead>\n",
       "  <tbody>\n",
       "    <tr>\n",
       "      <th>0</th>\n",
       "      <td>1</td>\n",
       "      <td>beijing</td>\n",
       "      <td>8.5</td>\n",
       "    </tr>\n",
       "    <tr>\n",
       "      <th>1</th>\n",
       "      <td>2</td>\n",
       "      <td>shanghai</td>\n",
       "      <td>8.1</td>\n",
       "    </tr>\n",
       "    <tr>\n",
       "      <th>2</th>\n",
       "      <td>3</td>\n",
       "      <td>guangzhou</td>\n",
       "      <td>8.1</td>\n",
       "    </tr>\n",
       "    <tr>\n",
       "      <th>3</th>\n",
       "      <td>4</td>\n",
       "      <td>shenzhen</td>\n",
       "      <td>6.7</td>\n",
       "    </tr>\n",
       "    <tr>\n",
       "      <th>4</th>\n",
       "      <td>5</td>\n",
       "      <td>chongqing</td>\n",
       "      <td>8.3</td>\n",
       "    </tr>\n",
       "  </tbody>\n",
       "</table>\n",
       "</div>"
      ],
      "text/plain": [
       "   idx  city_name  gdp\n",
       "0    1    beijing  8.5\n",
       "1    2   shanghai  8.1\n",
       "2    3  guangzhou  8.1\n",
       "3    4   shenzhen  6.7\n",
       "4    5  chongqing  8.3"
      ]
     },
     "execution_count": 6,
     "metadata": {},
     "output_type": "execute_result"
    }
   ],
   "source": [
    "data = pd.DataFrame({'idx':[1,2,3,4,5], \n",
    "                     'city_name':['beijing', 'shanghai', 'guangzhou', 'shenzhen', 'chongqing'],\n",
    "                     'gdp':[8.5, 8.1, 8.1, 6.7, 8.3]\n",
    "                    })\n",
    "\n",
    "data"
   ]
  },
  {
   "cell_type": "markdown",
   "id": "3aee6d32",
   "metadata": {},
   "source": [
    "### 插入数据到Inceptor\n",
    "sql语句需要拼接"
   ]
  },
  {
   "cell_type": "code",
   "execution_count": 7,
   "id": "092ee722",
   "metadata": {},
   "outputs": [
    {
     "name": "stdout",
     "output_type": "stream",
     "text": [
      "insert begin...\n",
      "process(total=5): 0\n",
      "process(total=5): 1\n",
      "process(total=5): 2\n",
      "process(total=5): 3\n",
      "process(total=5): 4\n",
      "insert done.\n"
     ]
    }
   ],
   "source": [
    "print('insert begin...')\n",
    "TABLE_NAME = \"default.t_city_info\"\n",
    "\n",
    "data_len = len(data)\n",
    "for i in range(data_len):\n",
    "    val = list(data.iloc[i].values.astype(str))\n",
    "    sql = \"insert into  \" + TABLE_NAME\n",
    "    sql = sql +   \" values ('\" + val[0] +  \"','\" + \"',\".join(val[1:]) \n",
    "    sql +=  \");\"\n",
    "    dbutils.insertHiveByPyhive(sql)\n",
    "    print('process(total=%d): %d' %(data_len, i))\n",
    "\n",
    "print('insert done.')"
   ]
  },
  {
   "cell_type": "markdown",
   "id": "68d63f6e",
   "metadata": {},
   "source": [
    "### 查询验证"
   ]
  },
  {
   "cell_type": "code",
   "execution_count": 8,
   "id": "0d1a7bbd",
   "metadata": {},
   "outputs": [
    {
     "data": {
      "text/html": [
       "<div>\n",
       "<style scoped>\n",
       "    .dataframe tbody tr th:only-of-type {\n",
       "        vertical-align: middle;\n",
       "    }\n",
       "\n",
       "    .dataframe tbody tr th {\n",
       "        vertical-align: top;\n",
       "    }\n",
       "\n",
       "    .dataframe thead th {\n",
       "        text-align: right;\n",
       "    }\n",
       "</style>\n",
       "<table border=\"1\" class=\"dataframe\">\n",
       "  <thead>\n",
       "    <tr style=\"text-align: right;\">\n",
       "      <th></th>\n",
       "      <th>idx</th>\n",
       "      <th>city_name</th>\n",
       "      <th>gdp</th>\n",
       "    </tr>\n",
       "  </thead>\n",
       "  <tbody>\n",
       "    <tr>\n",
       "      <th>0</th>\n",
       "      <td>1</td>\n",
       "      <td>beijing</td>\n",
       "      <td>8.5</td>\n",
       "    </tr>\n",
       "    <tr>\n",
       "      <th>1</th>\n",
       "      <td>2</td>\n",
       "      <td>shanghai</td>\n",
       "      <td>8.1</td>\n",
       "    </tr>\n",
       "    <tr>\n",
       "      <th>2</th>\n",
       "      <td>3</td>\n",
       "      <td>guangzhou</td>\n",
       "      <td>8.1</td>\n",
       "    </tr>\n",
       "    <tr>\n",
       "      <th>3</th>\n",
       "      <td>4</td>\n",
       "      <td>shenzhen</td>\n",
       "      <td>6.7</td>\n",
       "    </tr>\n",
       "    <tr>\n",
       "      <th>4</th>\n",
       "      <td>5</td>\n",
       "      <td>chongqing</td>\n",
       "      <td>8.3</td>\n",
       "    </tr>\n",
       "  </tbody>\n",
       "</table>\n",
       "</div>"
      ],
      "text/plain": [
       "  idx  city_name  gdp\n",
       "0   1    beijing  8.5\n",
       "1   2   shanghai  8.1\n",
       "2   3  guangzhou  8.1\n",
       "3   4   shenzhen  6.7\n",
       "4   5  chongqing  8.3"
      ]
     },
     "execution_count": 8,
     "metadata": {},
     "output_type": "execute_result"
    }
   ],
   "source": [
    "dbutils.selectHiveByPyhive(\"select * from default.t_city_info order by idx asc\")"
   ]
  },
  {
   "cell_type": "code",
   "execution_count": null,
   "id": "61fce62e",
   "metadata": {},
   "outputs": [],
   "source": []
  },
  {
   "cell_type": "code",
   "execution_count": null,
   "id": "a00d82b6",
   "metadata": {},
   "outputs": [],
   "source": []
  }
 ],
 "metadata": {
  "kernelspec": {
   "display_name": "Python 3",
   "language": "python",
   "name": "python3"
  },
  "language_info": {
   "codemirror_mode": {
    "name": "ipython",
    "version": 3
   },
   "file_extension": ".py",
   "mimetype": "text/x-python",
   "name": "python",
   "nbconvert_exporter": "python",
   "pygments_lexer": "ipython3",
   "version": "3.8.8"
  },
  "toc": {
   "base_numbering": 1,
   "nav_menu": {},
   "number_sections": true,
   "sideBar": true,
   "skip_h1_title": false,
   "title_cell": "Table of Contents",
   "title_sidebar": "Contents",
   "toc_cell": false,
   "toc_position": {
    "height": "calc(100% - 180px)",
    "left": "10px",
    "top": "150px",
    "width": "281.735px"
   },
   "toc_section_display": true,
   "toc_window_display": true
  }
 },
 "nbformat": 4,
 "nbformat_minor": 5
}
