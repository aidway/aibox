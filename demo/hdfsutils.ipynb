{
 "cells": [
  {
   "cell_type": "markdown",
   "id": "410c925d",
   "metadata": {},
   "source": [
    " - 修改./conf/hdfsutils.conf\n",
    " - 替换./conf/hdfs.keytab"
   ]
  },
  {
   "cell_type": "code",
   "execution_count": 1,
   "id": "a6749fc4",
   "metadata": {},
   "outputs": [
    {
     "data": {
      "text/plain": [
       "<module 'aibox.hdfsutils' from '../../aibox/hdfsutils.py'>"
      ]
     },
     "execution_count": 1,
     "metadata": {},
     "output_type": "execute_result"
    }
   ],
   "source": [
    "import pandas as pd\n",
    "from imp import reload\n",
    "import sys\n",
    "\n",
    "import os\n",
    "\n",
    "sys.path.append('../..')\n",
    "from aibox import hdfsutils\n",
    "from aibox import dbutils\n",
    "reload(dbutils)\n",
    "reload(hdfsutils)\n"
   ]
  },
  {
   "cell_type": "markdown",
   "id": "54826917",
   "metadata": {},
   "source": [
    "# HDFS常用命令"
   ]
  },
  {
   "cell_type": "markdown",
   "id": "4a6c97c9",
   "metadata": {},
   "source": [
    "## 初始化HDFS对象"
   ]
  },
  {
   "cell_type": "code",
   "execution_count": 2,
   "id": "a03bdd74",
   "metadata": {},
   "outputs": [
    {
     "name": "stdout",
     "output_type": "stream",
     "text": [
      "tdh_principal: hdfs/dm46@TDH\n",
      "hdfs_keytab_path: /home/kwq/jupyter/aibox/./conf/hdfs.keytab\n",
      "kinti status: kinit success.\n",
      "active nm: http://172.26.0.47:50070\n"
     ]
    }
   ],
   "source": [
    "hdfs_client = hdfsutils.init_hdfs()"
   ]
  },
  {
   "cell_type": "markdown",
   "id": "8e7d9a95",
   "metadata": {},
   "source": [
    "## ls"
   ]
  },
  {
   "cell_type": "code",
   "execution_count": 3,
   "id": "1d4885b0",
   "metadata": {},
   "outputs": [
    {
     "data": {
      "text/plain": [
       "['$Recycle.Bin',\n",
       " '2、智能小车底盘安装之电池盒固定.mp4',\n",
       " '3、上电测试和电池使用说明.mp4',\n",
       " 'Arduino小车视频',\n",
       " 'SamsungPortableSSD_Setup_Win_1.0.exe',\n",
       " 'Winchk.exe',\n",
       " 'ba.txt',\n",
       " 'desktop.ini',\n",
       " 'discover1',\n",
       " 'discover2',\n",
       " 'discover3',\n",
       " 'es',\n",
       " 'fide',\n",
       " 'hdfs-client-core.exe4j',\n",
       " 'home',\n",
       " 'hyperbase1',\n",
       " 'hyperbase2',\n",
       " 'inceptor1',\n",
       " 'inceptor2',\n",
       " 'inceptor3',\n",
       " 'inceptor4',\n",
       " 'ljr',\n",
       " 'nameservice1',\n",
       " 'pack',\n",
       " 'rhel-server-6.3-i386-dvd.iso',\n",
       " 'slipstream1',\n",
       " 'slipstream2',\n",
       " 'slipstreamstudio1',\n",
       " 'sohpon',\n",
       " 'sophon',\n",
       " 'testhdfs',\n",
       " 'tmp',\n",
       " 'unins000.dat',\n",
       " 'unins000.exe',\n",
       " 'uninstall.bat',\n",
       " 'user',\n",
       " 'winpeshl.ini',\n",
       " 'yarn1',\n",
       " 'zstp']"
      ]
     },
     "execution_count": 3,
     "metadata": {},
     "output_type": "execute_result"
    }
   ],
   "source": [
    "hdfsutils.hdfs_ls('/', hdfs_client)"
   ]
  },
  {
   "cell_type": "markdown",
   "id": "2235b012",
   "metadata": {},
   "source": [
    "## mkdir\n"
   ]
  },
  {
   "cell_type": "code",
   "execution_count": 4,
   "id": "63386e82",
   "metadata": {},
   "outputs": [],
   "source": [
    "hdfsutils.hdfs_mkdir('/tmp/hdfstest', hdfs_client)"
   ]
  },
  {
   "cell_type": "markdown",
   "id": "6ea3bdae",
   "metadata": {},
   "source": [
    "## put"
   ]
  },
  {
   "cell_type": "code",
   "execution_count": 5,
   "id": "c4d4f32b",
   "metadata": {},
   "outputs": [],
   "source": [
    "hdfs_file_name = '/tmp/hdfstest/hdfsutils.ipynb'\n",
    "local_file_name = './hdfsutils.ipynb'\n",
    "    \n",
    "hdfsutils.hdfs_put(hdfs_file_name, local_file_name, hdfs_client)"
   ]
  },
  {
   "cell_type": "code",
   "execution_count": 6,
   "id": "ea54a071",
   "metadata": {},
   "outputs": [
    {
     "data": {
      "text/plain": [
       "['hdfsutils.ipynb']"
      ]
     },
     "execution_count": 6,
     "metadata": {},
     "output_type": "execute_result"
    }
   ],
   "source": [
    "hdfsutils.hdfs_ls('/tmp/hdfstest', hdfs_client)"
   ]
  },
  {
   "cell_type": "markdown",
   "id": "cc81f219",
   "metadata": {},
   "source": [
    "## download"
   ]
  },
  {
   "cell_type": "code",
   "execution_count": 7,
   "id": "30027213",
   "metadata": {},
   "outputs": [],
   "source": [
    "source_file = '/tmp/hdfstest/hdfsutils.ipynb'\n",
    "target_path = '/tmp'\n",
    "\n",
    "if os.path.exists(target_path + '/hdfsutils.ipynb'):\n",
    "    os.remove(target_path + '/hdfsutils.ipynb')\n",
    "    \n",
    "hdfsutils.hdfs_download(source_file, target_path, hdfs_client)"
   ]
  },
  {
   "cell_type": "code",
   "execution_count": 8,
   "id": "5840d270",
   "metadata": {},
   "outputs": [
    {
     "name": "stdout",
     "output_type": "stream",
     "text": [
      "-rw-r--r--.  1 root     root         9517 Feb 19 02:05 hdfsutils.ipynb\r\n"
     ]
    }
   ],
   "source": [
    "# 检查\n",
    "!ls -l /tmp/ | grep hdfsutils"
   ]
  },
  {
   "cell_type": "markdown",
   "id": "df85a270",
   "metadata": {},
   "source": [
    "## delete"
   ]
  },
  {
   "cell_type": "code",
   "execution_count": 9,
   "id": "ec39fb9c",
   "metadata": {},
   "outputs": [],
   "source": [
    "hdfs_file_name =  '/tmp/hdfstest/hdfsutils.ipynb'\n",
    "hdfsutils.hdfs_delete(hdfs_file_name, hdfs_client)\n",
    "    "
   ]
  },
  {
   "cell_type": "code",
   "execution_count": 10,
   "id": "e6607349",
   "metadata": {},
   "outputs": [
    {
     "data": {
      "text/plain": [
       "[]"
      ]
     },
     "execution_count": 10,
     "metadata": {},
     "output_type": "execute_result"
    }
   ],
   "source": [
    "hdfsutils.hdfs_ls('/tmp/hdfstest', hdfs_client)"
   ]
  },
  {
   "cell_type": "markdown",
   "id": "9ef833e2",
   "metadata": {},
   "source": [
    "# HDFS+CSV表"
   ]
  },
  {
   "cell_type": "markdown",
   "id": "aa9f1f0f",
   "metadata": {},
   "source": [
    "## 建外表"
   ]
  },
  {
   "cell_type": "markdown",
   "id": "63dfa45e",
   "metadata": {},
   "source": [
    "drop table default.t_city_info_csv;\n",
    "create table default.t_city_info_csv(\n",
    "    idx string comment '唯一列',\n",
    "    city_name string comment '城市名称',\n",
    "    gdp double comment 'gdp增速'\n",
    ")\n",
    "stored as csvfile\n",
    "location '/tmp/t_city_info_csv';"
   ]
  },
  {
   "cell_type": "markdown",
   "id": "3874c1a1",
   "metadata": {},
   "source": [
    "## 准备数据"
   ]
  },
  {
   "cell_type": "code",
   "execution_count": 11,
   "id": "643ff47e",
   "metadata": {},
   "outputs": [
    {
     "data": {
      "text/html": [
       "<div>\n",
       "<style scoped>\n",
       "    .dataframe tbody tr th:only-of-type {\n",
       "        vertical-align: middle;\n",
       "    }\n",
       "\n",
       "    .dataframe tbody tr th {\n",
       "        vertical-align: top;\n",
       "    }\n",
       "\n",
       "    .dataframe thead th {\n",
       "        text-align: right;\n",
       "    }\n",
       "</style>\n",
       "<table border=\"1\" class=\"dataframe\">\n",
       "  <thead>\n",
       "    <tr style=\"text-align: right;\">\n",
       "      <th></th>\n",
       "      <th>idx</th>\n",
       "      <th>city_name</th>\n",
       "      <th>gdp</th>\n",
       "    </tr>\n",
       "  </thead>\n",
       "  <tbody>\n",
       "    <tr>\n",
       "      <th>0</th>\n",
       "      <td>1</td>\n",
       "      <td>beijing</td>\n",
       "      <td>8.5</td>\n",
       "    </tr>\n",
       "    <tr>\n",
       "      <th>1</th>\n",
       "      <td>2</td>\n",
       "      <td>shanghai</td>\n",
       "      <td>8.1</td>\n",
       "    </tr>\n",
       "    <tr>\n",
       "      <th>2</th>\n",
       "      <td>3</td>\n",
       "      <td>guangzhou</td>\n",
       "      <td>8.1</td>\n",
       "    </tr>\n",
       "    <tr>\n",
       "      <th>3</th>\n",
       "      <td>4</td>\n",
       "      <td>shenzhen</td>\n",
       "      <td>6.7</td>\n",
       "    </tr>\n",
       "    <tr>\n",
       "      <th>4</th>\n",
       "      <td>5</td>\n",
       "      <td>chongqing</td>\n",
       "      <td>8.3</td>\n",
       "    </tr>\n",
       "  </tbody>\n",
       "</table>\n",
       "</div>"
      ],
      "text/plain": [
       "   idx  city_name  gdp\n",
       "0    1    beijing  8.5\n",
       "1    2   shanghai  8.1\n",
       "2    3  guangzhou  8.1\n",
       "3    4   shenzhen  6.7\n",
       "4    5  chongqing  8.3"
      ]
     },
     "execution_count": 11,
     "metadata": {},
     "output_type": "execute_result"
    }
   ],
   "source": [
    "data = pd.DataFrame({'idx':[1,2,3,4,5], \n",
    "                     'city_name':['beijing', 'shanghai', 'guangzhou', 'shenzhen', 'chongqing'],\n",
    "                     'gdp':[8.5, 8.1, 8.1, 6.7, 8.3]\n",
    "                    })\n",
    "\n",
    "# 构造数据\n",
    "data.to_csv('./data/t_city_info.csv', index=False)\n",
    "\n",
    "data"
   ]
  },
  {
   "cell_type": "markdown",
   "id": "2ef7401a",
   "metadata": {},
   "source": [
    "## 上传文件"
   ]
  },
  {
   "cell_type": "code",
   "execution_count": 12,
   "id": "c200aa4e",
   "metadata": {},
   "outputs": [
    {
     "name": "stdout",
     "output_type": "stream",
     "text": [
      "tdh_principal: hdfs/dm46@TDH\n",
      "hdfs_keytab_path: /home/kwq/jupyter/aibox/./conf/hdfs.keytab\n",
      "kinti status: kinit success.\n",
      "active nm: http://172.26.0.47:50070\n",
      "File exists, delete first: /tmp/t_city_info_csv/t_city_info_csv.csv\n"
     ]
    }
   ],
   "source": [
    "hdfs_file_name = '/tmp/t_city_info_csv/t_city_info_csv.csv'\n",
    "local_file_name = './data/t_city_info.csv'\n",
    "\n",
    "# 1. 初始化hdfs\n",
    "hdfs_client = hdfsutils.init_hdfs()\n",
    "\n",
    "\n",
    "# 2. 检查文件是否存在，如果存在，先删除\n",
    "file_check = hdfsutils.hdfs_ls('/tmp/t_city_info_csv/', hdfs_client)\n",
    "if file_check != []:\n",
    "    print('File exists, delete first:', hdfs_file_name)\n",
    "    hdfsutils.hdfs_delete(hdfs_file_name, hdfs_client)\n",
    "    \n",
    "# 3. 上传文件\n",
    "hdfsutils.hdfs_put(hdfs_file_name, local_file_name, hdfs_client)"
   ]
  },
  {
   "cell_type": "markdown",
   "id": "e413d090",
   "metadata": {},
   "source": [
    "## 查询验证"
   ]
  },
  {
   "cell_type": "code",
   "execution_count": 13,
   "id": "dd79166f",
   "metadata": {},
   "outputs": [
    {
     "data": {
      "text/html": [
       "<div>\n",
       "<style scoped>\n",
       "    .dataframe tbody tr th:only-of-type {\n",
       "        vertical-align: middle;\n",
       "    }\n",
       "\n",
       "    .dataframe tbody tr th {\n",
       "        vertical-align: top;\n",
       "    }\n",
       "\n",
       "    .dataframe thead th {\n",
       "        text-align: right;\n",
       "    }\n",
       "</style>\n",
       "<table border=\"1\" class=\"dataframe\">\n",
       "  <thead>\n",
       "    <tr style=\"text-align: right;\">\n",
       "      <th></th>\n",
       "      <th>idx</th>\n",
       "      <th>city_name</th>\n",
       "      <th>gdp</th>\n",
       "    </tr>\n",
       "  </thead>\n",
       "  <tbody>\n",
       "    <tr>\n",
       "      <th>0</th>\n",
       "      <td>1</td>\n",
       "      <td>beijing</td>\n",
       "      <td>8.5</td>\n",
       "    </tr>\n",
       "    <tr>\n",
       "      <th>1</th>\n",
       "      <td>2</td>\n",
       "      <td>shanghai</td>\n",
       "      <td>8.1</td>\n",
       "    </tr>\n",
       "    <tr>\n",
       "      <th>2</th>\n",
       "      <td>3</td>\n",
       "      <td>guangzhou</td>\n",
       "      <td>8.1</td>\n",
       "    </tr>\n",
       "    <tr>\n",
       "      <th>3</th>\n",
       "      <td>4</td>\n",
       "      <td>shenzhen</td>\n",
       "      <td>6.7</td>\n",
       "    </tr>\n",
       "    <tr>\n",
       "      <th>4</th>\n",
       "      <td>5</td>\n",
       "      <td>chongqing</td>\n",
       "      <td>8.3</td>\n",
       "    </tr>\n",
       "    <tr>\n",
       "      <th>5</th>\n",
       "      <td>idx</td>\n",
       "      <td>city_name</td>\n",
       "      <td>NaN</td>\n",
       "    </tr>\n",
       "  </tbody>\n",
       "</table>\n",
       "</div>"
      ],
      "text/plain": [
       "   idx  city_name  gdp\n",
       "0    1    beijing  8.5\n",
       "1    2   shanghai  8.1\n",
       "2    3  guangzhou  8.1\n",
       "3    4   shenzhen  6.7\n",
       "4    5  chongqing  8.3\n",
       "5  idx  city_name  NaN"
      ]
     },
     "execution_count": 13,
     "metadata": {},
     "output_type": "execute_result"
    }
   ],
   "source": [
    "dbutils.selectHiveByPyhive(\"select * from default.t_city_info_csv order by idx asc\")"
   ]
  },
  {
   "cell_type": "code",
   "execution_count": null,
   "id": "98e1ae7c",
   "metadata": {},
   "outputs": [],
   "source": []
  },
  {
   "cell_type": "code",
   "execution_count": null,
   "id": "f0f39fb3",
   "metadata": {},
   "outputs": [],
   "source": []
  }
 ],
 "metadata": {
  "kernelspec": {
   "display_name": "Python 3",
   "language": "python",
   "name": "python3"
  },
  "language_info": {
   "codemirror_mode": {
    "name": "ipython",
    "version": 3
   },
   "file_extension": ".py",
   "mimetype": "text/x-python",
   "name": "python",
   "nbconvert_exporter": "python",
   "pygments_lexer": "ipython3",
   "version": "3.8.8"
  },
  "toc": {
   "base_numbering": 1,
   "nav_menu": {},
   "number_sections": true,
   "sideBar": true,
   "skip_h1_title": false,
   "title_cell": "Table of Contents",
   "title_sidebar": "Contents",
   "toc_cell": false,
   "toc_position": {
    "height": "calc(100% - 180px)",
    "left": "10px",
    "top": "150px",
    "width": "309.933px"
   },
   "toc_section_display": true,
   "toc_window_display": true
  }
 },
 "nbformat": 4,
 "nbformat_minor": 5
}
